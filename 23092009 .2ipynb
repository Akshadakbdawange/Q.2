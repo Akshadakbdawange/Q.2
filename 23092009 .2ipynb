{
 "cells": [
  {
   "cell_type": "code",
   "execution_count": 1,
   "id": "54edaac6-009d-456a-a5f6-b3e2e3bc1157",
   "metadata": {},
   "outputs": [
    {
     "name": "stdout",
     "output_type": "stream",
     "text": [
      "Original matrix A:\n",
      "[[3 6 8 9 6]\n",
      " [8 7 9 3 6]\n",
      " [1 2 5 5 0]\n",
      " [5 0 9 9 3]\n",
      " [1 7 4 1 1]]\n",
      "\n",
      "Row Echelon Form of matrix A:\n",
      "[[1 2 2 3 2]\n",
      " [0 1 0 2 1]\n",
      " [0 0 1 0 0]\n",
      " [0 0 0 1 0]\n",
      " [0 0 0 0 1]]\n"
     ]
    }
   ],
   "source": [
    "import numpy as np\n",
    "\n",
    "# Set the random seed using the last two digits of your roll number\n",
    "np.random.seed(23)  # Change this number to your last two digits\n",
    "\n",
    "# Generate a 5x5 matrix with random integers between 0 and 9\n",
    "A = np.random.randint(0, 10, (5, 5))\n",
    "\n",
    "print(\"Original matrix A:\")\n",
    "print(A)\n",
    "\n",
    "# Reduce A to its Row Echelon Form\n",
    "rows, cols = A.shape\n",
    "current_row = 0\n",
    "for col in range(cols):\n",
    "    # Find the first non-zero entry in the current column\n",
    "    nonzero_row = current_row\n",
    "    while nonzero_row < rows and A[nonzero_row, col] == 0:\n",
    "        nonzero_row += 1\n",
    "    \n",
    "    # If found, swap the current row with the row containing the non-zero entry\n",
    "    if nonzero_row < rows:\n",
    "        A[[current_row, nonzero_row]] = A[[nonzero_row, current_row]]\n",
    "        \n",
    "        # Make the leading entry of the current column 1\n",
    "        A[current_row] = A[current_row] / A[current_row, col]\n",
    "        \n",
    "        # Eliminate the entries below the leading entry\n",
    "        for i in range(current_row + 1, rows):\n",
    "            A[i] = A[i] - A[current_row] * A[i, col]\n",
    "        \n",
    "        current_row += 1\n",
    "\n",
    "print(\"\\nRow Echelon Form of matrix A:\")\n",
    "print(A)\n"
   ]
  }
 ],
 "metadata": {
  "kernelspec": {
   "display_name": "Python 3 (ipykernel)",
   "language": "python",
   "name": "python3"
  },
  "language_info": {
   "codemirror_mode": {
    "name": "ipython",
    "version": 3
   },
   "file_extension": ".py",
   "mimetype": "text/x-python",
   "name": "python",
   "nbconvert_exporter": "python",
   "pygments_lexer": "ipython3",
   "version": "3.11.7"
  }
 },
 "nbformat": 4,
 "nbformat_minor": 5
}
